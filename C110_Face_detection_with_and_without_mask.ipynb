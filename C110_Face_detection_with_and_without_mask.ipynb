{
  "nbformat": 4,
  "nbformat_minor": 0,
  "metadata": {
    "colab": {
      "provenance": [],
      "authorship_tag": "ABX9TyMtcx3q0hS2TnmPNgWtWNMQ",
      "include_colab_link": true
    },
    "kernelspec": {
      "name": "python3",
      "display_name": "Python 3"
    },
    "language_info": {
      "name": "python"
    }
  },
  "cells": [
    {
      "cell_type": "markdown",
      "metadata": {
        "id": "view-in-github",
        "colab_type": "text"
      },
      "source": [
        "<a href=\"https://colab.research.google.com/github/Rashneema/C110-V2-face-detection-with-without-mask/blob/main/C110_Face_detection_with_and_without_mask.ipynb\" target=\"_parent\"><img src=\"https://colab.research.google.com/assets/colab-badge.svg\" alt=\"Open In Colab\"/></a>"
      ]
    },
    {
      "cell_type": "markdown",
      "source": [
        "## Camera Capture\n",
        "Using a webcam to capture images for processing on the runtime."
      ],
      "metadata": {
        "id": "ZlbxNyMET1eq"
      }
    },
    {
      "cell_type": "code",
      "source": [
        "from IPython.display import display, Javascript\n",
        "from google.colab.output import eval_js\n",
        "from base64 import b64decode\n",
        "\n",
        "def take_photo(filename='photo.jpg', quality=0.8):\n",
        "  js = Javascript('''\n",
        "    async function takePhoto(quality) {\n",
        "      const div = document.createElement('div');\n",
        "      const capture = document.createElement('button');\n",
        "      capture.textContent = 'Capture';\n",
        "      div.appendChild(capture);\n",
        "\n",
        "      const video = document.createElement('video');\n",
        "      video.style.display = 'block';\n",
        "      const stream = await navigator.mediaDevices.getUserMedia({video: true});\n",
        "\n",
        "      document.body.appendChild(div);\n",
        "      div.appendChild(video);\n",
        "      video.srcObject = stream;\n",
        "      await video.play();\n",
        "\n",
        "      // Resize the output to fit the video element.\n",
        "      google.colab.output.setIframeHeight(document.documentElement.scrollHeight, true);\n",
        "\n",
        "      // Wait for Capture to be clicked.\n",
        "      await new Promise((resolve) => capture.onclick = resolve);\n",
        "\n",
        "      const canvas = document.createElement('canvas');\n",
        "      canvas.width = video.videoWidth;\n",
        "      canvas.height = video.videoHeight;\n",
        "      canvas.getContext('2d').drawImage(video, 0, 0);\n",
        "      stream.getVideoTracks()[0].stop();\n",
        "      div.remove();\n",
        "      return canvas.toDataURL('image/jpeg', quality);\n",
        "    }\n",
        "    ''')\n",
        "  display(js)\n",
        "  data = eval_js('takePhoto({})'.format(quality))\n",
        "  binary = b64decode(data.split(',')[1])\n",
        "  with open(filename, 'wb') as f:\n",
        "    f.write(binary)\n",
        "  return filename"
      ],
      "metadata": {
        "id": "CiWmbd47T293"
      },
      "execution_count": 8,
      "outputs": []
    },
    {
      "cell_type": "code",
      "execution_count": null,
      "metadata": {
        "id": "rvZWwoe_Qc0-"
      },
      "outputs": [],
      "source": [
        "import cv2\n",
        "import numpy as np\n",
        "from IPython.display import Image\n",
        "\n",
        "import tensorflow as tf\n",
        "\n",
        "model = tf.keras.models.load_model('keras_model.h5')\n",
        "\n",
        "from google.colab.patches import cv2_imshow\n",
        "#video = cv2.VideoCapture(0)\n",
        "\n",
        "while True:\n",
        "\n",
        "    #check,frame = video.read()\n",
        "    #frame = cv2.imread(\"photo.jpg\")\n",
        "    try:\n",
        "      filename = take_photo()\n",
        "      print('Saved to {}'.format(filename))\n",
        "      \n",
        "      # Show the image which was just taken.\n",
        "      display(Image(filename))\n",
        "    except Exception as err:\n",
        "      # Errors will be thrown if the user does not have a webcam or if they do not\n",
        "      # grant the page permission to access it.\n",
        "      print(str(err))\n",
        "        \n",
        "    frame = cv2.imread(\"photo.jpg\")\n",
        "    # Modify the input data by:\n",
        "\n",
        "    # 1. Resizing the image\n",
        "\n",
        "    img = cv2.resize(frame,(224,224))\n",
        "\n",
        "    # 2. Converting the image into Numpy array and increase dimension\n",
        "\n",
        "    test_image = np.array(img, dtype=np.float32)\n",
        "    test_image = np.expand_dims(test_image, axis=0)\n",
        "\n",
        "    # 3. Normalizing the image\n",
        "    normalised_image = test_image/255.0\n",
        "\n",
        "    # Predict Result\n",
        "    prediction = model.predict(normalised_image)\n",
        "\n",
        "    print(\"Prediction : \",prediction)\n",
        "      \n",
        "    cv2_imshow(frame)\n",
        "            \n",
        "    key = cv2.waitKey(1)  \n",
        "\n",
        "    if key == 32:\n",
        "        print(\"Closing\")\n",
        "        break\n",
        "\n",
        "#video.release()  "
      ]
    }
  ]
}